{
 "cells": [
  {
   "cell_type": "markdown",
   "id": "eaa8abd2",
   "metadata": {},
   "source": [
    "### Setup"
   ]
  },
  {
   "cell_type": "code",
   "execution_count": 49,
   "id": "32135f9c",
   "metadata": {},
   "outputs": [],
   "source": [
    "import torch"
   ]
  },
  {
   "cell_type": "markdown",
   "id": "4b43480f",
   "metadata": {},
   "source": [
    "### Set seed"
   ]
  },
  {
   "cell_type": "code",
   "execution_count": 30,
   "id": "87121c1b",
   "metadata": {},
   "outputs": [],
   "source": [
    "torch.manual_seed(0)\n",
    "torch.cuda.manual_seed(0)"
   ]
  },
  {
   "cell_type": "markdown",
   "id": "f6ad1283",
   "metadata": {},
   "source": [
    "### Exercise 1"
   ]
  },
  {
   "cell_type": "code",
   "execution_count": 27,
   "id": "321c0c3b",
   "metadata": {},
   "outputs": [],
   "source": [
    "X = torch.rand((7, 7))"
   ]
  },
  {
   "cell_type": "markdown",
   "id": "6d628f0e",
   "metadata": {},
   "source": [
    "### Exercise 2"
   ]
  },
  {
   "cell_type": "code",
   "execution_count": 28,
   "id": "c08aed3b",
   "metadata": {},
   "outputs": [],
   "source": [
    "y = torch.rand((1, 7))"
   ]
  },
  {
   "cell_type": "markdown",
   "id": "faa213be",
   "metadata": {},
   "source": [
    "### Exercise 3"
   ]
  },
  {
   "cell_type": "code",
   "execution_count": 29,
   "id": "d8f17f85",
   "metadata": {},
   "outputs": [],
   "source": [
    "X_y  = torch.matmul(X, torch.transpose(y, 0, 1))"
   ]
  },
  {
   "cell_type": "markdown",
   "id": "2184e8e7",
   "metadata": {},
   "source": [
    "### Exercise 5"
   ]
  },
  {
   "cell_type": "code",
   "execution_count": 40,
   "id": "28bcc7c5",
   "metadata": {},
   "outputs": [],
   "source": [
    "device = \"cuda\" if torch.cuda.is_available else \"cpu\"\n",
    "x = torch.rand(2, 7)\n",
    "y = torch.rand(2, 7)\n",
    "try:\n",
    "    x.to(device)\n",
    "    y.to(device)\n",
    "except AssertionError as e:\n",
    "    device = \"cpu\"\n",
    "    x.to(device)\n",
    "    y.to(device)\n",
    "    assert x.device.type == 'cpu'\n",
    "    assert y.device.type == 'cpu'"
   ]
  },
  {
   "cell_type": "markdown",
   "id": "95867d04",
   "metadata": {},
   "source": [
    "### Exercise 6"
   ]
  },
  {
   "cell_type": "code",
   "execution_count": 42,
   "id": "4243b186",
   "metadata": {},
   "outputs": [],
   "source": [
    "x_y = torch.matmul(x, torch.transpose(y, 0, 1))"
   ]
  },
  {
   "cell_type": "markdown",
   "id": "c6c1e29b",
   "metadata": {},
   "source": [
    "### Exercise 7"
   ]
  },
  {
   "cell_type": "code",
   "execution_count": 43,
   "id": "4d38856c",
   "metadata": {},
   "outputs": [],
   "source": [
    "max_x_y, min_x_y = torch.max(x_y), torch.min(x_y)"
   ]
  },
  {
   "cell_type": "markdown",
   "id": "fe628ffe",
   "metadata": {},
   "source": [
    "### Exercise 8"
   ]
  },
  {
   "cell_type": "code",
   "execution_count": 47,
   "id": "b40b049e",
   "metadata": {},
   "outputs": [
    {
     "data": {
      "text/plain": [
       "(tensor(0), tensor(2))"
      ]
     },
     "execution_count": 47,
     "metadata": {},
     "output_type": "execute_result"
    }
   ],
   "source": [
    "idxmax_x_y, idx_min_x_y = torch.argmax(x_y), torch.argmin(x_y)\n",
    "idxmax_x_y, idx_min_x_y"
   ]
  },
  {
   "cell_type": "markdown",
   "id": "b73a73c6",
   "metadata": {},
   "source": [
    "### Exercise 9"
   ]
  },
  {
   "cell_type": "code",
   "execution_count": 60,
   "id": "5eae7e79",
   "metadata": {},
   "outputs": [],
   "source": [
    "torch.manual_seed(7)\n",
    "torch.cuda.manual_seed(7)"
   ]
  },
  {
   "cell_type": "markdown",
   "id": "4fad04d0",
   "metadata": {},
   "source": [
    "### Exercise 10"
   ]
  },
  {
   "cell_type": "code",
   "execution_count": 68,
   "id": "26f45ec0",
   "metadata": {},
   "outputs": [
    {
     "name": "stdout",
     "output_type": "stream",
     "text": [
      "tensor([[[[0.4414, 0.5550, 0.6361, 0.1081, 0.3305, 0.5196, 0.2147, 0.2816,\n",
      "           0.6679, 0.7878]]]]) torch.Size([1, 1, 1, 10])\n",
      "tensor([0.4414, 0.5550, 0.6361, 0.1081, 0.3305, 0.5196, 0.2147, 0.2816, 0.6679,\n",
      "        0.7878]) torch.Size([10])\n"
     ]
    }
   ],
   "source": [
    "rand_complex = torch.rand((1, 1, 1, 10))\n",
    "squeezed_rand_complex = torch.squeeze(rand_complex)"
   ]
  },
  {
   "cell_type": "code",
   "execution_count": 69,
   "id": "7464ca35",
   "metadata": {},
   "outputs": [
    {
     "name": "stdout",
     "output_type": "stream",
     "text": [
      "tensor([[[[0.4414, 0.5550, 0.6361, 0.1081, 0.3305, 0.5196, 0.2147, 0.2816,\n",
      "           0.6679, 0.7878]]]]) torch.Size([1, 1, 1, 10])\n",
      "tensor([0.4414, 0.5550, 0.6361, 0.1081, 0.3305, 0.5196, 0.2147, 0.2816, 0.6679,\n",
      "        0.7878]) torch.Size([10])\n"
     ]
    }
   ],
   "source": [
    "print(rand_complex, rand_complex.shape)\n",
    "print(squeezed_rand_complex, squeezed_rand_complex.shape)"
   ]
  }
 ],
 "metadata": {
  "kernelspec": {
   "display_name": "Python 3 (ipykernel)",
   "language": "python",
   "name": "python3"
  },
  "language_info": {
   "codemirror_mode": {
    "name": "ipython",
    "version": 3
   },
   "file_extension": ".py",
   "mimetype": "text/x-python",
   "name": "python",
   "nbconvert_exporter": "python",
   "pygments_lexer": "ipython3",
   "version": "3.11.0"
  }
 },
 "nbformat": 4,
 "nbformat_minor": 5
}
