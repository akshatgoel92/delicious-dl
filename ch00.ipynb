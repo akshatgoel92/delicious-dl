{
 "cells": [
  {
   "cell_type": "markdown",
   "id": "f9b67034",
   "metadata": {},
   "source": [
    "### Setup"
   ]
  },
  {
   "cell_type": "code",
   "execution_count": 49,
   "id": "6053d50c",
   "metadata": {},
   "outputs": [],
   "source": [
    "import torch"
   ]
  },
  {
   "cell_type": "markdown",
   "id": "b8610824",
   "metadata": {},
   "source": [
    "### Set seed"
   ]
  },
  {
   "cell_type": "code",
   "execution_count": 30,
   "id": "6745a045",
   "metadata": {},
   "outputs": [],
   "source": [
    "torch.manual_seed(0)\n",
    "torch.cuda.manual_seed(0)"
   ]
  },
  {
   "cell_type": "markdown",
   "id": "c79d70e0",
   "metadata": {},
   "source": [
    "### Exercise 1"
   ]
  },
  {
   "cell_type": "code",
   "execution_count": 27,
   "id": "da97b57d",
   "metadata": {},
   "outputs": [],
   "source": [
    "X = torch.rand((7, 7))"
   ]
  },
  {
   "cell_type": "markdown",
   "id": "bbbe7571",
   "metadata": {},
   "source": [
    "### Exercise 2"
   ]
  },
  {
   "cell_type": "code",
   "execution_count": 28,
   "id": "2543cac5",
   "metadata": {},
   "outputs": [],
   "source": [
    "y = torch.rand((1, 7))"
   ]
  },
  {
   "cell_type": "markdown",
   "id": "f9e05187",
   "metadata": {},
   "source": [
    "### Exercise 3"
   ]
  },
  {
   "cell_type": "code",
   "execution_count": 29,
   "id": "13a9627a",
   "metadata": {},
   "outputs": [],
   "source": [
    "X_y  = torch.matmul(X, torch.transpose(y, 0, 1))"
   ]
  },
  {
   "cell_type": "markdown",
   "id": "84e7c5f4",
   "metadata": {},
   "source": [
    "### Exercise 5"
   ]
  },
  {
   "cell_type": "code",
   "execution_count": 40,
   "id": "2cbd5aee",
   "metadata": {},
   "outputs": [],
   "source": [
    "device = \"cuda\" if torch.cuda.is_available else \"cpu\"\n",
    "x = torch.rand(2, 7)\n",
    "y = torch.rand(2, 7)\n",
    "try:\n",
    "    x.to(device)\n",
    "    y.to(device)\n",
    "except AssertionError as e:\n",
    "    device = \"cpu\"\n",
    "    x.to(device)\n",
    "    y.to(device)\n",
    "    assert x.device.type == 'cpu'\n",
    "    assert y.device.type == 'cpu'"
   ]
  },
  {
   "cell_type": "markdown",
   "id": "cd9020c2",
   "metadata": {},
   "source": [
    "### Exercise 6"
   ]
  },
  {
   "cell_type": "code",
   "execution_count": 42,
   "id": "5c3aca40",
   "metadata": {},
   "outputs": [],
   "source": [
    "x_y = torch.matmul(x, torch.transpose(y, 0, 1))"
   ]
  },
  {
   "cell_type": "markdown",
   "id": "ffbab06b",
   "metadata": {},
   "source": [
    "### Exercise 7"
   ]
  },
  {
   "cell_type": "code",
   "execution_count": 43,
   "id": "057ed7b0",
   "metadata": {},
   "outputs": [],
   "source": [
    "max_x_y, min_x_y = torch.max(x_y), torch.min(x_y)"
   ]
  },
  {
   "cell_type": "markdown",
   "id": "fe6ff786",
   "metadata": {},
   "source": [
    "### Exercise 8"
   ]
  },
  {
   "cell_type": "code",
   "execution_count": 47,
   "id": "7729f202",
   "metadata": {},
   "outputs": [
    {
     "data": {
      "text/plain": [
       "(tensor(0), tensor(2))"
      ]
     },
     "execution_count": 47,
     "metadata": {},
     "output_type": "execute_result"
    }
   ],
   "source": [
    "idxmax_x_y, idx_min_x_y = torch.argmax(x_y), torch.argmin(x_y)\n",
    "idxmax_x_y, idx_min_x_y"
   ]
  },
  {
   "cell_type": "markdown",
   "id": "7422e97f",
   "metadata": {},
   "source": [
    "### Exercise 9"
   ]
  },
  {
   "cell_type": "code",
   "execution_count": 60,
   "id": "ab044dda",
   "metadata": {},
   "outputs": [],
   "source": [
    "torch.manual_seed(7)\n",
    "torch.cuda.manual_seed(7)"
   ]
  },
  {
   "cell_type": "markdown",
   "id": "79304649",
   "metadata": {},
   "source": [
    "### Exercise 10"
   ]
  },
  {
   "cell_type": "code",
   "execution_count": 68,
   "id": "6535b107",
   "metadata": {},
   "outputs": [
    {
     "name": "stdout",
     "output_type": "stream",
     "text": [
      "tensor([[[[0.4414, 0.5550, 0.6361, 0.1081, 0.3305, 0.5196, 0.2147, 0.2816,\n",
      "           0.6679, 0.7878]]]]) torch.Size([1, 1, 1, 10])\n",
      "tensor([0.4414, 0.5550, 0.6361, 0.1081, 0.3305, 0.5196, 0.2147, 0.2816, 0.6679,\n",
      "        0.7878]) torch.Size([10])\n"
     ]
    }
   ],
   "source": [
    "rand_complex = torch.rand((1, 1, 1, 10))\n",
    "squeezed_rand_complex = torch.squeeze(rand_complex)"
   ]
  },
  {
   "cell_type": "code",
   "execution_count": 69,
   "id": "ded9568e",
   "metadata": {},
   "outputs": [
    {
     "name": "stdout",
     "output_type": "stream",
     "text": [
      "tensor([[[[0.4414, 0.5550, 0.6361, 0.1081, 0.3305, 0.5196, 0.2147, 0.2816,\n",
      "           0.6679, 0.7878]]]]) torch.Size([1, 1, 1, 10])\n",
      "tensor([0.4414, 0.5550, 0.6361, 0.1081, 0.3305, 0.5196, 0.2147, 0.2816, 0.6679,\n",
      "        0.7878]) torch.Size([10])\n"
     ]
    }
   ],
   "source": [
    "print(rand_complex, rand_complex.shape)\n",
    "print(squeezed_rand_complex, squeezed_rand_complex.shape)"
   ]
  }
 ],
 "metadata": {
  "kernelspec": {
   "display_name": "Python 3 (ipykernel)",
   "language": "python",
   "name": "python3"
  },
  "language_info": {
   "codemirror_mode": {
    "name": "ipython",
    "version": 3
   },
   "file_extension": ".py",
   "mimetype": "text/x-python",
   "name": "python",
   "nbconvert_exporter": "python",
   "pygments_lexer": "ipython3",
   "version": "3.11.0"
  }
 },
 "nbformat": 4,
 "nbformat_minor": 5
}
